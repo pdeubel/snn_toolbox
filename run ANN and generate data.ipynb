{
 "cells": [
  {
   "cell_type": "code",
   "execution_count": 1,
   "metadata": {},
   "outputs": [],
   "source": [
    "import csv\n",
    "import json\n",
    "import os\n",
    "import re\n",
    "import time\n",
    "\n",
    "import gym\n",
    "import roboschool\n",
    "\n",
    "import matplotlib.pyplot as plt\n",
    "import numpy as np\n",
    "import pandas as pd\n",
    "\n",
    "from gym import wrappers\n",
    "from ipywidgets import Video\n",
    "import ipywidgets as widgets\n",
    "from multiprocessing import Pool, Process\n",
    "from IPython.display import display"
   ]
  },
  {
   "cell_type": "code",
   "execution_count": 2,
   "metadata": {},
   "outputs": [],
   "source": [
    "# %load load-model.py\n",
    "def load_model(model_path):   \n",
    "    import tensorflow as tf\n",
    "\n",
    "    class Normc_initializer(tf.keras.initializers.Initializer):\n",
    "        def __init__(self, std=1.0):\n",
    "            self.std=std\n",
    "\n",
    "        def __call__(self, shape, dtype=None, partition_info=None):\n",
    "            out = np.random.randn(*shape).astype(np.float32)\n",
    "            out *= self.std / np.sqrt(np.square(out).sum(axis=0, keepdims=True))\n",
    "            return tf.constant(out)\n",
    "    \n",
    "    class ObservationNormalizationLayer(tf.keras.layers.Layer):\n",
    "        def __init__(self, ob_mean, ob_std, **kwargs):\n",
    "            self.ob_mean = ob_mean\n",
    "            self.ob_std = ob_std\n",
    "            super(ObservationNormalizationLayer, self).__init__(**kwargs)\n",
    "\n",
    "        def call(self, x):\n",
    "            return tf.clip_by_value((x - self.ob_mean) / self.ob_std, -5.0, 5.0)\n",
    "        \n",
    "        # get_config and from_config need to implemented to be able to serialize the model\n",
    "        def get_config(self):\n",
    "            base_config = super(ObservationNormalizationLayer, self).get_config()\n",
    "            base_config['ob_mean'] = self.ob_mean\n",
    "            base_config['ob_std'] = self.ob_std\n",
    "            return base_config\n",
    "        \n",
    "        @classmethod\n",
    "        def from_config(cls, config):\n",
    "            return cls(**config)\n",
    "        \n",
    "    class DiscretizeActionsUniformLayer(tf.keras.layers.Layer):\n",
    "        def __init__(self, num_ac_bins, adim, ahigh, alow, **kwargs):\n",
    "            self.num_ac_bins = num_ac_bins\n",
    "            self.adim = adim\n",
    "            # ahigh, alow are NumPy arrays when extracting from the environment, but when the model is loaded from a h5\n",
    "            # File they get initialised as a normal list, where operations like subtraction does not work, thereforce\n",
    "            # cast them explicitly\n",
    "            self.ahigh = np.array(ahigh)\n",
    "            self.alow = np.array(alow)\n",
    "            super(DiscretizeActionsUniformLayer, self).__init__(**kwargs)\n",
    "\n",
    "        def call(self, x):            \n",
    "            # Reshape to [n x i x j] where n is dynamically chosen, i equals action dimension and j equals the number\n",
    "            # of bins\n",
    "            scores_nab = tf.reshape(x, [-1, self.adim, self.num_ac_bins])\n",
    "            # This picks the bin with the greatest value\n",
    "            a = tf.argmax(scores_nab, 2)\n",
    "            \n",
    "            # Then transform the interval from [0, num_ac_bins - 1] to [-1, 1] which equals alow and ahigh\n",
    "            ac_range_1a = (self.ahigh - self.alow)[None, :]\n",
    "            return 1. / (self.num_ac_bins - 1.) * tf.keras.backend.cast(a, 'float32') * ac_range_1a + self.alow[None, :]        \n",
    "        \n",
    "        # get_config and from_config need to implemented to be able to serialize the model\n",
    "        def get_config(self):\n",
    "            base_config = super(DiscretizeActionsUniformLayer, self).get_config()\n",
    "            base_config['num_ac_bins'] = self.num_ac_bins\n",
    "            base_config['adim'] = self.adim\n",
    "            base_config['ahigh'] = self.ahigh\n",
    "            base_config['alow'] = self.alow\n",
    "            return base_config\n",
    "        \n",
    "        @classmethod\n",
    "        def from_config(cls, config):\n",
    "            return cls(**config)\n",
    "    \n",
    "    custom_objects = {'Normc_initializer' : Normc_initializer, \n",
    "                      'ObservationNormalizationLayer' : ObservationNormalizationLayer,\n",
    "                      'DiscretizeActionsUniformLayer' : DiscretizeActionsUniformLayer}\n",
    "    \n",
    "    try:\n",
    "        model = tf.keras.models.load_model(model_path, custom_objects=custom_objects)\n",
    "    except OSError as e:\n",
    "        print(e)\n",
    "        return None\n",
    "    return model"
   ]
  },
  {
   "cell_type": "code",
   "execution_count": 113,
   "metadata": {},
   "outputs": [],
   "source": [
    "def rollout_evaluation(env, model, render=False, timestep_limit=None, random_stream=None):\n",
    "    \"\"\"\n",
    "    If random_stream is provided, the rollout will take noisy actions with noise drawn from that stream.\n",
    "    Otherwise, no action noise will be added.\n",
    "    \"\"\"\n",
    "\n",
    "    env_timestep_limit = env.spec.tags.get('wrapper_config.TimeLimit.max_episode_steps')\n",
    "    timestep_limit = env_timestep_limit if timestep_limit is None else min(timestep_limit, env_timestep_limit)\n",
    "    rews = []\n",
    "    t = 0\n",
    "    ob = env.reset()\n",
    "    obs = []\n",
    "    predictions=[]\n",
    "    for _ in range(timestep_limit):\n",
    "        if render:\n",
    "            env.render()\n",
    "        obs.append(ob[None])\n",
    "        pred = model.predict_on_batch(ob[None])\n",
    "        predictions.append(pred)\n",
    "        ac = pred[0]\n",
    "        try:\n",
    "            ob, rew, done, _ = env.step(ac)\n",
    "        except AssertionError:\n",
    "            # Is thrown when for example ac is a list which has at least one entry with NaN\n",
    "            raise \n",
    "        rews.append(rew)\n",
    "        t += 1\n",
    "\n",
    "        if done:\n",
    "            break\n",
    "    x_test = np.concatenate(obs)\n",
    "    y_test = np.concatenate(predictions)\n",
    "    np.savez_compressed('x_test', x_test)\n",
    "    np.savez_compressed('y_test', y_test)\n",
    "    return np.array(rews, dtype=np.float32), t\n",
    "\n",
    "\n",
    "def run_model(model_file_path, model_file, save_directory, record=False):   \n",
    "    \n",
    "        #with open(os.path.join(model_file_path, \"config.json\"), encoding='utf-8') as f:\n",
    "            #config = json.load(f)\n",
    "    \n",
    "        #env = gym.make(config['config']['env_id'])\n",
    "        env = gym.make(\"RoboschoolAnt-v1\")\n",
    "        env.reset()\n",
    "        if record:\n",
    "            env = wrappers.Monitor(env, save_directory, force=True)\n",
    "\n",
    "        model = load_model(os.path.join(model_file_path, model_file))\n",
    "        \n",
    "        try:\n",
    "            rewards, length = rollout_evaluation(env, model)\n",
    "        except AssertionError:\n",
    "            print(\"The model file provided produces non finite numbers. Stopping.\")\n",
    "            return\n",
    "        \n",
    "        env.close()\n",
    "        print(rewards)\n",
    "        print([rewards.sum(), length])\n",
    "\n",
    "        return [rewards.sum(), length]"
   ]
  },
  {
   "cell_type": "code",
   "execution_count": 123,
   "metadata": {
    "scrolled": false
   },
   "outputs": [
    {
     "name": "stdout",
     "output_type": "stream",
     "text": [
      "WARNING:tensorflow:From /opt/conda/lib/python3.7/site-packages/tensorflow/python/ops/init_ops.py:97: calling Zeros.__init__ (from tensorflow.python.ops.init_ops) with dtype is deprecated and will be removed in a future version.\n",
      "Instructions for updating:\n",
      "Call initializer instance with the dtype argument instead of passing it to the constructor\n",
      "WARNING:tensorflow:No training configuration found in save file: the model was *not* compiled. Compile it manually.\n",
      "[-0.05414261 -0.25568765 -0.17167957 -0.3685424  -0.39090848 -0.24605495\n",
      " -0.5896726  -0.4181856  -0.5840454  -0.658848   -0.20318423 -0.474702\n",
      " -0.16052487 -0.1711373  -0.20825009  0.02944881  0.03721193 -0.03396656\n",
      "  0.01511653  0.4647759   0.5087224   0.27114466  0.21178856  0.28400737\n",
      "  0.28174412  0.30179462  0.31372187  0.33046132  0.3370098   0.34972358\n",
      "  0.33182478  0.35294655  0.7118012   0.7038064   0.52433914  0.51242924\n",
      "  0.50843257  0.4849931   0.5330312   0.25844255  0.2706929   0.20888785\n",
      "  0.40269232  0.36875576  0.10475568  0.083822    0.15085876  0.09104902\n",
      "  0.04857123 -0.12771899 -0.16501473 -0.05846804 -0.04086783  0.00994585\n",
      "  0.039709    0.26859632  0.28519943  0.28774866  0.28790796  0.4408212\n",
      "  0.36581513  0.28692162 -0.18640164 -0.35732394 -0.17096432  0.22169237\n",
      "  0.11510492  0.09187966  0.27583343  0.3668176   0.3660124   0.6856745\n",
      "  0.7005578   0.70692945  0.8767975   0.920054    0.911391    0.94062996\n",
      "  0.85582936  0.8753536   0.54783535  0.5380798   0.63936114  0.31914642\n",
      "  0.02627977  0.36100575  0.29564616  0.22333601  0.54571176  0.5615651\n",
      "  0.5258162   0.24385849  0.24950725  0.4409555   0.42011788  0.3740791\n",
      "  0.44680232  0.43511683  0.4180949   0.41723943  0.479553    0.52455086\n",
      "  0.53218406  0.58829594  0.5617242   0.38159356  0.32765675  0.05622786\n",
      "  0.09463593  0.07312919  0.18574148  0.20252672  0.2194032   0.04991297\n",
      "  0.51028687  0.43177715  0.4519017   0.40701342  0.29653007  0.17283551\n",
      " -0.1979839  -0.210586   -0.11124933  0.47542608  0.2998282   0.2285758\n",
      "  0.5070241   0.47156277  0.5074479   0.8846582   0.65645117  0.6018138\n",
      "  0.5438066   0.79219574  0.53405666  0.6395737   0.54863197  0.49658513\n",
      "  0.24095508  0.26663762  0.28171852  0.3021838   0.27842093  0.11085897\n",
      "  0.3485753   0.32808185  0.3707504   0.17841332  0.1798584   0.56326497\n",
      "  0.32298818  0.319672    0.04913089  0.05847505  0.26117086  0.21711995\n",
      "  0.38647488  0.36376926  0.354681    0.32809424  0.2794138   0.08152761\n",
      "  0.04427505 -0.16875765 -0.16376066 -0.1286258  -0.13054581 -0.3624296\n",
      " -0.1863345  -0.10275491 -0.06846325 -0.06713633 -0.48924446 -0.5002514\n",
      " -0.5304709  -0.35428783 -0.38374403 -0.60456514 -0.60175884 -0.61164516\n",
      " -0.5619634  -0.5156409  -0.3105053  -0.22952376 -0.18188632 -0.20464171\n",
      " -0.22805871 -0.25514948 -0.59994245 -0.5049863  -0.5491836  -0.580695\n",
      " -0.55474365 -0.5903472  -0.6130813  -0.716973   -0.7670101  -0.9062835\n",
      " -0.90073526 -0.07494347  0.05211821 -0.33675098 -0.09546917 -0.19039823\n",
      " -0.17312215 -0.27387148 -0.6228111  -0.5014629  -0.5337422  -0.5416952\n",
      " -0.54674417 -0.6067876  -0.62479675 -0.42766926 -0.3998129  -0.2661514\n",
      " -0.32255164 -0.33235067 -0.38394028 -0.39888042 -0.36213383 -0.35788733\n",
      " -0.3113475  -0.35703963 -0.36199695 -0.33743525 -0.3049212  -0.30381188\n",
      " -0.27534476 -0.25124195 -0.23478965 -0.40553778  0.21982466  0.31717694\n",
      "  0.25454625  0.12022527  0.1047272   0.10148825  0.08348586  0.08846568\n",
      "  0.03706432 -0.00350928 -0.18038653 -0.22688086 -0.22002934 -0.20636381\n",
      " -0.15105529 -0.11468596 -0.06649128 -0.01977257  0.07672668  0.17568503\n",
      "  0.11137398  0.10424484  0.07804442  0.05056399 -0.15180703 -0.19062987\n",
      " -0.21682175 -0.14803056 -0.17313632 -0.4293479  -0.42397878 -0.26176003\n",
      " -0.20540561 -0.1604942  -0.09414179  0.12897635 -0.01744524  0.31462\n",
      "  0.09500093 -0.02513813 -0.13211037 -0.41712168 -0.40086812 -0.4283023\n",
      " -0.4769992  -0.44529238 -0.27102444 -0.50864714 -0.5282589  -0.48156002\n",
      " -0.52445513 -0.4449205  -0.46918488 -0.4306429  -0.48391035 -0.45363802\n",
      " -0.49153045 -0.510313   -0.4610626  -0.4902284  -0.45496815 -0.48461106\n",
      " -0.6491469  -0.62565523 -0.6604653  -0.6511263  -0.64372855 -0.64173645\n",
      " -0.6417099  -0.6437143  -0.64534324 -0.64828974 -0.64382493 -0.6505871\n",
      " -0.64443576 -0.6432175  -0.64274305 -0.6469382  -0.6428589  -0.6463217\n",
      " -0.64254326 -0.64247787 -0.64264446 -0.6427026  -0.6422252  -0.6421284\n",
      " -0.64216167 -0.6421886  -0.6421912  -0.64216566 -0.64482844 -0.64313483\n",
      " -0.6413366  -0.643051   -0.64560115 -0.6432544  -0.6436717  -0.63944876\n",
      " -0.6435367  -0.6405593  -0.6410148  -0.6409899  -0.64033014 -0.6408316\n",
      " -0.6400698  -0.6417101  -0.6399858  -0.64131445 -0.6397662  -0.6421785\n",
      " -0.6399529  -0.6422304  -0.6397531  -0.6422302  -0.63953334 -0.6513612\n",
      " -0.61448246 -0.63277113 -0.6334692  -0.6429283  -0.6457419  -0.6511121\n",
      " -0.64371574 -0.6427811  -0.6437213  -0.64136    -0.64102834 -0.64166003\n",
      " -0.6448391  -0.6438339  -0.6407102  -0.6411404  -0.64140207 -0.6448823\n",
      " -0.642728   -0.6409113  -0.64143807 -0.64436334 -0.64261514 -0.6409548\n",
      " -0.6414133  -0.64467824 -0.64361084 -0.6441142  -0.6399882  -0.6432401\n",
      " -0.6410608  -0.6408737  -0.6413153  -0.6403661  -0.64101315 -0.64007515\n",
      " -0.641166   -0.6403224  -0.64160275 -0.63976187 -0.6422875  -0.63989097\n",
      " -0.64264804 -0.6397098  -0.64260817 -0.6394985  -0.64146686 -0.6445197\n",
      " -0.636509   -0.6418148  -0.6422011  -0.6436192  -0.6406859  -0.64444435\n",
      " -0.63935536 -0.64296156 -0.64192325 -0.6410247  -0.6474202  -0.64848584\n",
      " -0.64462554 -0.64984536 -0.64050955 -0.64522624 -0.641273   -0.6486976\n",
      " -0.6429514  -0.6438209  -0.64577454 -0.6438002  -0.6407741  -0.6429145\n",
      " -0.640457   -0.6413736  -0.6462624  -0.6456304  -0.6487142  -0.6409707\n",
      " -0.64519405 -0.64067024 -0.6423295  -0.64412427 -0.64178425 -0.6418043\n",
      " -0.6429436  -0.6511234  -0.64073306 -0.6428644  -0.64232767 -0.6434434\n",
      " -0.64257294 -0.6422641  -0.645649   -0.6440392  -0.64067525 -0.6456119\n",
      " -0.6442733  -0.6456501  -0.6410185  -0.6448356  -0.6428814  -0.640942\n",
      " -0.6454921  -0.64350814 -0.6411633  -0.6455979  -0.6464022  -0.6408999\n",
      " -0.6434369  -0.6419811  -0.64137053 -0.6465714  -0.64059305 -0.6432794\n",
      " -0.64044756 -0.6429329  -0.6412812  -0.64444834 -0.64254296 -0.6405483\n",
      " -0.6436651  -0.6430313  -0.64218235 -0.64018226 -0.6432016  -0.6412752\n",
      " -0.64446515 -0.63496    -0.6370443  -0.6419693  -0.6466735  -0.64395463\n",
      " -0.6462175  -0.6405763  -0.6447101  -0.6407119  -0.64359206 -0.651198\n",
      " -0.640056   -0.64304465 -0.64132243 -0.6440821  -0.6464667  -0.640542\n",
      " -0.6448186  -0.64161366 -0.64558655 -0.6434078  -0.6474711  -0.64496124\n",
      " -0.6416543  -0.6441609  -0.64384437 -0.6409441  -0.6416222  -0.6529375\n",
      " -0.64017403 -0.64570266 -0.6442439  -0.644202   -0.6438114  -0.6422161\n",
      " -0.64217323 -0.6438264  -0.6414912  -0.64128023 -0.644632   -0.6403753\n",
      " -0.64132464 -0.6437926  -0.645187   -0.64116883 -0.64345604 -0.64981914\n",
      " -0.6410855  -0.6451795  -0.64144516 -0.64083    -0.6429259  -0.64242816\n",
      " -0.6455658  -0.6438482  -0.6446368  -0.6453467  -0.6439454  -0.64519227\n",
      " -0.64430743 -0.64317375 -0.647967   -0.6429125  -0.6445979  -0.6433927\n",
      " -0.64293104 -0.6433657  -0.6439571  -0.6475397  -0.64412785 -0.64319795\n",
      " -0.6479644  -0.6461899  -0.6401541  -0.6457266  -0.6414531  -0.64701444\n",
      " -0.6437363  -0.64314246 -0.6446951  -0.64410365 -0.64758486 -0.6422879\n",
      " -0.6442041  -0.64054793 -0.645149   -0.64671457 -0.6401835  -0.6439399\n",
      " -0.6504349  -0.64346194 -0.64410037 -0.6410464  -0.64250535 -0.64416534\n",
      " -0.6404401  -0.645178   -0.64675444 -0.64022726 -0.6439645  -0.6504552\n",
      " -0.64348304 -0.6441122  -0.6410707  -0.64251935 -0.644176   -0.64045495\n",
      " -0.6451733  -0.64676094 -0.64022917 -0.6439661  -0.65046597 -0.6434708\n",
      " -0.6441131  -0.64109874 -0.64250696 -0.6441767  -0.64045817 -0.6451521\n",
      " -0.64675814 -0.6402191  -0.64395916 -0.6504693  -0.6434487  -0.644109\n",
      " -0.6411222  -0.6424885  -0.6441735  -0.6404563  -0.64513075 -0.6467525\n",
      " -0.6402075  -0.643951   -0.6504689  -0.64342916 -0.6441042  -0.64113694\n",
      " -0.642473   -0.6441696  -0.6404532  -0.64511526 -0.64674735 -0.6401987\n",
      " -0.6439446  -0.6504673  -0.6434161  -0.6441003  -0.6411444  -0.6424631\n",
      " -0.6441665  -0.64045054 -0.6451064  -0.6467437  -0.6401935  -0.6439408\n",
      " -0.65046567 -0.64340925 -0.644098   -0.64114684 -0.6424582  -0.6441645\n",
      " -0.64044887 -0.6451027  -0.6467417  -0.64019126 -0.643939   -0.6504645\n",
      " -0.64340687 -0.64409685 -0.6411466  -0.6424568  -0.64416337 -0.64044803\n",
      " -0.6451023  -0.64674085 -0.640191   -0.64393866 -0.65046376 -0.6434072\n",
      " -0.64409655 -0.641145   -0.6424576  -0.64416295 -0.64044785 -0.6451038\n",
      " -0.64674073 -0.6401919  -0.64393914 -0.65046346 -0.643409   -0.6440968\n",
      " -0.64114285 -0.6424594  -0.6441629  -0.640448   -0.6451063  -0.646741\n",
      " -0.64019334 -0.6439401  -0.65046334 -0.6434116  -0.6440973  -0.64114046\n",
      " -0.6424618  -0.644163   -0.64044833 -0.64510924 -0.6467415  -0.6401951\n",
      " -0.6439413  -0.65046334 -0.64341444 -0.644098   -0.641138   -0.6424644\n",
      " -0.64416325 -0.64044875 -0.64511245 -0.6467421  -0.640197   -0.64394253\n",
      " -0.6504634  -0.6434174  -0.64409876 -0.64113545 -0.64246714 -0.6441636\n",
      " -0.64044917 -0.6451158  -0.64674276 -0.6401989  -0.6439439  -0.65046346\n",
      " -0.6434206  -0.64409953 -0.6411328  -0.64247    -0.64416397 -0.64044964\n",
      " -0.64511925 -0.6467434  -0.64020085 -0.64394534 -0.6504635  -0.6434238\n",
      " -0.64410037 -0.6411301  -0.6424729  -0.6441643  -0.64045006 -0.6451228\n",
      " -0.6467442  -0.64020294 -0.6439468  -0.6504636  -0.64342713 -0.64410126\n",
      " -0.6411272  -0.6424759  -0.64416474 -0.64045054 -0.6451265  -0.64674497\n",
      " -0.640205   -0.6439484  -0.6504637  -0.6434306  -0.64410216 -0.64112437\n",
      " -0.642479   -0.64416516 -0.640451   -0.6451303  -0.64674574 -0.6402072\n",
      " -0.6439499  -0.65046376 -0.6434341  -0.6441031  -0.6411214  -0.64248216\n",
      " -0.6441656  -0.6404515  -0.64513415 -0.6467466  -0.6402094  -0.6439515\n",
      " -0.6504638  -0.6434376  -0.64410406 -0.6411184  -0.6424854  -0.64416605\n",
      " -0.640452   -0.6451381  -0.6467474  -0.6402116  -0.64395314 -0.65046394\n",
      " -0.64344126 -0.644105   -0.64111537 -0.6424886  -0.6441665  -0.6404525\n",
      " -0.645142   -0.64674824 -0.64021385 -0.64395475 -0.65046406 -0.6434449\n",
      " -0.64410603 -0.64111227 -0.6424918  -0.644167   -0.640453   -0.645146\n",
      " -0.64674914 -0.64021605 -0.6439564  -0.6504641  -0.6434486  -0.644107\n",
      " -0.6411092  -0.6424951  -0.6441675  -0.6404535  -0.64515    -0.64675\n",
      " -0.6402183  -0.64395803 -0.65046424 -0.6434522  -0.644108   -0.6411061\n",
      " -0.6424984  -0.64416796 -0.640454   -0.645154   -0.64675087 -0.6402206\n",
      " -0.6439597  -0.65046436 -0.6434559  -0.644109   -0.641103   -0.64250165\n",
      " -0.6441685  -0.64045453 -0.645158   -0.64675176 -0.64022285 -0.64396137\n",
      " -0.6504645  -0.6434596  -0.64410996 -0.6411     -0.642505   -0.644169\n",
      " -0.640455   -0.64516205 -0.64675266 -0.6402251  -0.64396304 -0.65046453\n",
      " -0.6434633  -0.644111   -0.6410969  -0.64250827 -0.64416945 -0.64045554\n",
      " -0.64516604 -0.6467535  -0.6402274  -0.6439647  -0.65046465 -0.64346695\n",
      " -0.644112   -0.6410938  -0.64251155 -0.64417    -0.640456   -0.64517003\n",
      " -0.6467544  -0.64022964 -0.6439664  -0.6504648  -0.64347064 -0.644113\n",
      " -0.64109075 -0.64251477 -0.64417046 -0.64045656 -0.645174   -0.6467553\n",
      " -0.64023185 -0.643968   -0.6504649  -0.6434743  -0.644114   -0.6410877\n",
      " -0.64251804 -0.644171   -0.64045703 -0.645178   -0.6467562  -0.6402341\n",
      " -0.64396966 -0.650465   -0.643478   -0.644115   -0.6410846  -0.6425213\n",
      " -0.6441715  -0.6404576  -0.645182   -0.64675707 -0.6402364  -0.6439713\n",
      " -0.6504651  -0.6434816  -0.644116   -0.6410816  -0.64252454 -0.64417195\n",
      " -0.64045805 -0.64518595 -0.6467579  -0.6402386  -0.64397293 -0.6504652\n",
      " -0.64348525 -0.644117   -0.6410786  -0.64252776 -0.6441725  -0.6404585\n",
      " -0.6451899  -0.6467588  -0.6402408  -0.6439746  -0.6504653  -0.6434888\n",
      " -0.64411795 -0.64107555 -0.642531   -0.64417297 -0.64045906 -0.6451938\n",
      " -0.6467597  -0.640243   -0.6439762  -0.6504654  -0.64349246 -0.64411896\n",
      " -0.6410725  -0.6425342  -0.6441735  -0.64045954 -0.64519775 -0.6467605\n",
      " -0.6402452  -0.6439779  -0.65046555 -0.64349604 -0.64412    -0.64106953\n",
      " -0.6425374  -0.644174   -0.64046    -0.6452017  -0.6467614  -0.6402474\n",
      " -0.6439795  -0.65046567 -0.6434996  -0.64412093 -0.64106655 -0.6425406\n",
      " -0.64417446 -0.64046055 -0.64520556 -0.64676225 -0.6402496  -0.6439811\n",
      " -0.6504658  -0.6435032  -0.64412194 -0.6410636  -0.64254373 -0.644175\n",
      " -0.640461   -0.64520943 -0.64676315 -0.64025176 -0.6439827  -0.65046585\n",
      " -0.6435067  -0.6441229  -0.6410606  -0.6425469  -0.64417547 -0.6404615\n",
      " -0.6452133  -0.646764   -0.64025396 -0.6439843  -0.65046597 -0.6435102\n",
      " -0.64412385 -0.64105767 -0.64255005 -0.64417595 -0.640462   -0.6452172\n",
      " -0.6467649  -0.6402561  -0.6439859  -0.6504661  -0.64351374 -0.64412487\n",
      " -0.64105475 -0.64255315 -0.6441764  -0.64046246]\n",
      "[-447.79733, 1000]\n"
     ]
    },
    {
     "data": {
      "text/plain": [
       "[-447.79733, 1000]"
      ]
     },
     "execution_count": 123,
     "metadata": {},
     "output_type": "execute_result"
    }
   ],
   "source": [
    "model_file_path = \"test-dir/discretize-nocustominit/\"\n",
    "model_file_name = \"ant-discretize-nocustominit.h5\"\n",
    "# Lets store the video file in the same directory as the model file\n",
    "save_directory = model_file_path\n",
    "\n",
    "\n",
    "#with Pool(os.cpu_count()) as pool:\n",
    "#    pool.apply(func=run_model, args=(model_file_path, model_file_name, save_directory, True))\n",
    "\n",
    "run_model(model_file_path, model_file_name, save_directory, False)\n"
   ]
  },
  {
   "cell_type": "code",
   "execution_count": null,
   "metadata": {},
   "outputs": [],
   "source": [
    "!ls -la test-dir/test-custom-objects"
   ]
  },
  {
   "cell_type": "code",
   "execution_count": null,
   "metadata": {},
   "outputs": [],
   "source": [
    "#!sleep 2\n",
    "for file in os.listdir(save_directory):\n",
    "    if file.endswith('.mp4'):\n",
    "        video_file = os.path.join(save_directory, file)\n",
    "        print(file)\n",
    "video = Video.from_file(video_file)\n",
    "display(video)"
   ]
  },
  {
   "cell_type": "code",
   "execution_count": 49,
   "metadata": {},
   "outputs": [],
   "source": [
    "test_data = np.load(os.path.join(model_file_path, 'x_test.npz'))"
   ]
  },
  {
   "cell_type": "code",
   "execution_count": 104,
   "metadata": {},
   "outputs": [],
   "source": [
    "test_data = np.load('x_test.npz')"
   ]
  },
  {
   "cell_type": "code",
   "execution_count": 105,
   "metadata": {
    "pycharm": {
     "name": "#%%\n"
    }
   },
   "outputs": [
    {
     "ename": "ValueError",
     "evalue": "Object arrays cannot be loaded when allow_pickle=False",
     "output_type": "error",
     "traceback": [
      "\u001b[0;31m\u001b[0m",
      "\u001b[0;31mValueError\u001b[0mTraceback (most recent call last)",
      "\u001b[0;32m<ipython-input-105-0fdf6dff4a4d>\u001b[0m in \u001b[0;36m<module>\u001b[0;34m\u001b[0m\n\u001b[0;32m----> 1\u001b[0;31m \u001b[0mtest_data\u001b[0m\u001b[0;34m[\u001b[0m\u001b[0;34m'arr_0'\u001b[0m\u001b[0;34m]\u001b[0m\u001b[0;34m\u001b[0m\u001b[0;34m\u001b[0m\u001b[0m\n\u001b[0m",
      "\u001b[0;32m/opt/conda/lib/python3.7/site-packages/numpy/lib/npyio.py\u001b[0m in \u001b[0;36m__getitem__\u001b[0;34m(self, key)\u001b[0m\n\u001b[1;32m    260\u001b[0m                 return format.read_array(bytes,\n\u001b[1;32m    261\u001b[0m                                          \u001b[0mallow_pickle\u001b[0m\u001b[0;34m=\u001b[0m\u001b[0mself\u001b[0m\u001b[0;34m.\u001b[0m\u001b[0mallow_pickle\u001b[0m\u001b[0;34m,\u001b[0m\u001b[0;34m\u001b[0m\u001b[0;34m\u001b[0m\u001b[0m\n\u001b[0;32m--> 262\u001b[0;31m                                          pickle_kwargs=self.pickle_kwargs)\n\u001b[0m\u001b[1;32m    263\u001b[0m             \u001b[0;32melse\u001b[0m\u001b[0;34m:\u001b[0m\u001b[0;34m\u001b[0m\u001b[0;34m\u001b[0m\u001b[0m\n\u001b[1;32m    264\u001b[0m                 \u001b[0;32mreturn\u001b[0m \u001b[0mself\u001b[0m\u001b[0;34m.\u001b[0m\u001b[0mzip\u001b[0m\u001b[0;34m.\u001b[0m\u001b[0mread\u001b[0m\u001b[0;34m(\u001b[0m\u001b[0mkey\u001b[0m\u001b[0;34m)\u001b[0m\u001b[0;34m\u001b[0m\u001b[0;34m\u001b[0m\u001b[0m\n",
      "\u001b[0;32m/opt/conda/lib/python3.7/site-packages/numpy/lib/format.py\u001b[0m in \u001b[0;36mread_array\u001b[0;34m(fp, allow_pickle, pickle_kwargs)\u001b[0m\n\u001b[1;32m    694\u001b[0m         \u001b[0;31m# The array contained Python objects. We need to unpickle the data.\u001b[0m\u001b[0;34m\u001b[0m\u001b[0;34m\u001b[0m\u001b[0;34m\u001b[0m\u001b[0m\n\u001b[1;32m    695\u001b[0m         \u001b[0;32mif\u001b[0m \u001b[0;32mnot\u001b[0m \u001b[0mallow_pickle\u001b[0m\u001b[0;34m:\u001b[0m\u001b[0;34m\u001b[0m\u001b[0;34m\u001b[0m\u001b[0m\n\u001b[0;32m--> 696\u001b[0;31m             raise ValueError(\"Object arrays cannot be loaded when \"\n\u001b[0m\u001b[1;32m    697\u001b[0m                              \"allow_pickle=False\")\n\u001b[1;32m    698\u001b[0m         \u001b[0;32mif\u001b[0m \u001b[0mpickle_kwargs\u001b[0m \u001b[0;32mis\u001b[0m \u001b[0;32mNone\u001b[0m\u001b[0;34m:\u001b[0m\u001b[0;34m\u001b[0m\u001b[0;34m\u001b[0m\u001b[0m\n",
      "\u001b[0;31mValueError\u001b[0m: Object arrays cannot be loaded when allow_pickle=False"
     ]
    }
   ],
   "source": [
    "test_data['arr_0']"
   ]
  },
  {
   "cell_type": "code",
   "execution_count": 106,
   "metadata": {
    "pycharm": {
     "name": "#%%\n"
    }
   },
   "outputs": [],
   "source": [
    "a = np.random.randn(10)\n",
    "b = np.random.randn(10)\n",
    "c = [a, b]\n",
    "\n",
    "#np.savez_compressed('test', np.array(c))\n"
   ]
  },
  {
   "cell_type": "code",
   "execution_count": 108,
   "metadata": {},
   "outputs": [
    {
     "data": {
      "text/plain": [
       "array([[-0.48760796, -0.03137171,  0.10772476,  0.76232787,  0.57247626,\n",
       "         0.54990346,  1.0025784 ,  0.20682156,  0.69951539, -0.51341809],\n",
       "       [ 0.54140483, -1.064237  ,  1.74136111,  1.17694124,  0.54364525,\n",
       "        -1.43829813,  1.14558571, -0.46005004,  0.4309901 ,  0.07608661]])"
      ]
     },
     "execution_count": 108,
     "metadata": {},
     "output_type": "execute_result"
    }
   ],
   "source": [
    "np.array(c)"
   ]
  },
  {
   "cell_type": "code",
   "execution_count": 115,
   "metadata": {
    "pycharm": {
     "name": "#%%\n"
    }
   },
   "outputs": [],
   "source": [
    "test = np.load('test-dir/x_test.npz')"
   ]
  },
  {
   "cell_type": "code",
   "execution_count": 121,
   "metadata": {
    "pycharm": {
     "name": "#%%\n"
    }
   },
   "outputs": [],
   "source": [
    "solo = test['arr_0'][2]\n"
   ]
  },
  {
   "cell_type": "code",
   "execution_count": 53,
   "metadata": {},
   "outputs": [
    {
     "ename": "ValueError",
     "evalue": "Object arrays cannot be loaded when allow_pickle=False",
     "output_type": "error",
     "traceback": [
      "\u001b[0;31m\u001b[0m",
      "\u001b[0;31mValueError\u001b[0mTraceback (most recent call last)",
      "\u001b[0;32m<ipython-input-53-0fdf6dff4a4d>\u001b[0m in \u001b[0;36m<module>\u001b[0;34m\u001b[0m\n\u001b[0;32m----> 1\u001b[0;31m \u001b[0mtest_data\u001b[0m\u001b[0;34m[\u001b[0m\u001b[0;34m'arr_0'\u001b[0m\u001b[0;34m]\u001b[0m\u001b[0;34m\u001b[0m\u001b[0;34m\u001b[0m\u001b[0m\n\u001b[0m",
      "\u001b[0;32m/opt/conda/lib/python3.7/site-packages/numpy/lib/npyio.py\u001b[0m in \u001b[0;36m__getitem__\u001b[0;34m(self, key)\u001b[0m\n\u001b[1;32m    260\u001b[0m                 return format.read_array(bytes,\n\u001b[1;32m    261\u001b[0m                                          \u001b[0mallow_pickle\u001b[0m\u001b[0;34m=\u001b[0m\u001b[0mself\u001b[0m\u001b[0;34m.\u001b[0m\u001b[0mallow_pickle\u001b[0m\u001b[0;34m,\u001b[0m\u001b[0;34m\u001b[0m\u001b[0;34m\u001b[0m\u001b[0m\n\u001b[0;32m--> 262\u001b[0;31m                                          pickle_kwargs=self.pickle_kwargs)\n\u001b[0m\u001b[1;32m    263\u001b[0m             \u001b[0;32melse\u001b[0m\u001b[0;34m:\u001b[0m\u001b[0;34m\u001b[0m\u001b[0;34m\u001b[0m\u001b[0m\n\u001b[1;32m    264\u001b[0m                 \u001b[0;32mreturn\u001b[0m \u001b[0mself\u001b[0m\u001b[0;34m.\u001b[0m\u001b[0mzip\u001b[0m\u001b[0;34m.\u001b[0m\u001b[0mread\u001b[0m\u001b[0;34m(\u001b[0m\u001b[0mkey\u001b[0m\u001b[0;34m)\u001b[0m\u001b[0;34m\u001b[0m\u001b[0;34m\u001b[0m\u001b[0m\n",
      "\u001b[0;32m/opt/conda/lib/python3.7/site-packages/numpy/lib/format.py\u001b[0m in \u001b[0;36mread_array\u001b[0;34m(fp, allow_pickle, pickle_kwargs)\u001b[0m\n\u001b[1;32m    694\u001b[0m         \u001b[0;31m# The array contained Python objects. We need to unpickle the data.\u001b[0m\u001b[0;34m\u001b[0m\u001b[0;34m\u001b[0m\u001b[0;34m\u001b[0m\u001b[0m\n\u001b[1;32m    695\u001b[0m         \u001b[0;32mif\u001b[0m \u001b[0;32mnot\u001b[0m \u001b[0mallow_pickle\u001b[0m\u001b[0;34m:\u001b[0m\u001b[0;34m\u001b[0m\u001b[0;34m\u001b[0m\u001b[0m\n\u001b[0;32m--> 696\u001b[0;31m             raise ValueError(\"Object arrays cannot be loaded when \"\n\u001b[0m\u001b[1;32m    697\u001b[0m                              \"allow_pickle=False\")\n\u001b[1;32m    698\u001b[0m         \u001b[0;32mif\u001b[0m \u001b[0mpickle_kwargs\u001b[0m \u001b[0;32mis\u001b[0m \u001b[0;32mNone\u001b[0m\u001b[0;34m:\u001b[0m\u001b[0;34m\u001b[0m\u001b[0;34m\u001b[0m\u001b[0m\n",
      "\u001b[0;31mValueError\u001b[0m: Object arrays cannot be loaded when allow_pickle=False"
     ]
    }
   ],
   "source": [
    "class RunningStat(object):\n",
    "    def __init__(self, shape, eps):\n",
    "        self.sum = np.zeros(shape, dtype=np.float32)\n",
    "        self.sumsq = np.full(shape, eps, dtype=np.float32)\n",
    "        self.count = eps\n",
    "\n",
    "    def increment(self, s, ssq, c):\n",
    "        self.sum += s\n",
    "        self.sumsq += ssq\n",
    "        self.count += c\n",
    "\n",
    "    @property\n",
    "    def mean(self):\n",
    "        return self.sum / self.count\n",
    "\n",
    "    @property\n",
    "    def std(self):\n",
    "        return np.sqrt(np.maximum(self.sumsq / self.count - np.square(self.mean), 1e-2))"
   ]
  },
  {
   "cell_type": "code",
   "execution_count": 44,
   "metadata": {},
   "outputs": [],
   "source": [
    "a = np.random.randn(10)\n",
    "b = np.random.randn(10)\n",
    "c = [a, b]\n",
    "\n",
    "np.savez_compressed('test', np.array(c))\n"
   ]
  },
  {
   "cell_type": "code",
   "execution_count": 45,
   "metadata": {},
   "outputs": [],
   "source": [
    "test = np.load('test.npz')"
   ]
  },
  {
   "cell_type": "code",
   "execution_count": 46,
   "metadata": {},
   "outputs": [
    {
     "data": {
      "text/plain": [
       "array([[-0.75126079,  0.85180292, -0.0060419 , -0.18615067, -1.75643322,\n",
       "        -1.44359063, -0.5915373 , -0.27241683,  0.83457284,  1.58251457],\n",
       "       [ 0.88645348,  2.17334851, -0.40356089, -0.92314391, -0.75248295,\n",
       "        -0.45417969,  1.8393929 , -0.54930343, -2.35341329,  1.7582542 ]])"
      ]
     },
     "execution_count": 46,
     "metadata": {},
     "output_type": "execute_result"
    }
   ],
   "source": [
    "test['arr_0']"
   ]
  },
  {
   "cell_type": "code",
   "execution_count": 7,
   "metadata": {},
   "outputs": [],
   "source": [
    "class RunningStat(object):\n",
    "    def __init__(self, shape, eps):\n",
    "        self.sum = np.zeros(shape, dtype=np.float32)\n",
    "        self.sumsq = np.full(shape, eps, dtype=np.float32)\n",
    "        self.count = eps\n",
    "\n",
    "    def increment(self, s, ssq, c):\n",
    "        self.sum += s\n",
    "        self.sumsq += ssq\n",
    "        self.count += c\n",
    "\n",
    "    @property\n",
    "    def mean(self):\n",
    "        return self.sum / self.count\n",
    "\n",
    "    @property\n",
    "    def std(self):\n",
    "        return np.sqrt(np.maximum(self.sumsq / self.count - np.square(self.mean), 1e-2))"
   ]
  },
  {
   "cell_type": "code",
   "execution_count": 11,
   "metadata": {},
   "outputs": [],
   "source": [
    "rs = RunningStat(shape=(28, ), eps=1e-5)"
   ]
  },
  {
   "cell_type": "code",
   "execution_count": 13,
   "metadata": {},
   "outputs": [],
   "source": [
    "rs.sum = test_data['_sum']\n",
    "rs.sumsq = test_data['sumsq']\n",
    "rs.count = test_data['count']"
   ]
  },
  {
   "cell_type": "code",
   "execution_count": 18,
   "metadata": {},
   "outputs": [
    {
     "data": {
      "text/plain": [
       "array([-4.0026894e-01, -1.2531167e-01,  9.5411342e-01, -1.1759889e-03,\n",
       "       -1.1659848e-03, -1.2082948e-02, -1.7148201e-01, -8.8134572e-02,\n",
       "       -1.8175726e-01,  1.2976294e-03, -1.3821378e+00,  1.2262263e-03,\n",
       "       -7.7275717e-01, -1.4502215e-03,  1.7050633e+00,  3.7816670e-04,\n",
       "       -4.7281194e-02,  2.4792904e-03,  6.3160962e-01, -6.0218587e-03,\n",
       "        2.1209793e-02,  1.7203779e-03, -9.0054941e-01,  3.8272135e-03,\n",
       "        9.7128230e-01,  9.7128230e-01,  9.7177738e-01,  9.7078729e-01],\n",
       "      dtype=float32)"
      ]
     },
     "execution_count": 18,
     "metadata": {},
     "output_type": "execute_result"
    }
   ],
   "source": [
    "rs.mean"
   ]
  },
  {
   "cell_type": "code",
   "execution_count": 19,
   "metadata": {},
   "outputs": [
    {
     "data": {
      "text/plain": [
       "array([0.1       , 0.26949415, 0.1       , 0.1       , 0.1       ,\n",
       "       0.1       , 0.2954735 , 0.11102042, 0.8113045 , 0.1       ,\n",
       "       1.0485069 , 0.1       , 0.18097788, 0.1       , 0.7350216 ,\n",
       "       0.1       , 0.79907376, 0.1       , 1.2506089 , 0.1       ,\n",
       "       0.97364384, 0.1       , 0.41828343, 0.1       , 0.1670268 ,\n",
       "       0.1670268 , 0.16562328, 0.16841705], dtype=float32)"
      ]
     },
     "execution_count": 19,
     "metadata": {},
     "output_type": "execute_result"
    }
   ],
   "source": [
    "rs.std"
   ]
  }
 ],
 "metadata": {
  "kernelspec": {
   "display_name": "Python 3",
   "language": "python",
   "name": "python3"
  },
  "language_info": {
   "codemirror_mode": {
    "name": "ipython",
    "version": 3
   },
   "file_extension": ".py",
   "mimetype": "text/x-python",
   "name": "python",
   "nbconvert_exporter": "python",
   "pygments_lexer": "ipython3",
   "version": "3.7.3"
  },
  "pycharm": {
   "stem_cell": {
    "cell_type": "raw",
    "metadata": {
     "collapsed": false
    },
    "source": []
   }
  }
 },
 "nbformat": 4,
 "nbformat_minor": 2
}
